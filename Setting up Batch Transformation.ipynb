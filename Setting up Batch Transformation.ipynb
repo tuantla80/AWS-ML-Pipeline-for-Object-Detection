{
 "cells": [
  {
   "cell_type": "code",
   "execution_count": 2,
   "id": "af0e287c",
   "metadata": {},
   "outputs": [],
   "source": [
    "## Batch Transform: Process multiple images at once\n",
    "# we will run it once every day"
   ]
  },
  {
   "cell_type": "code",
   "execution_count": 3,
   "id": "33a8bfb1",
   "metadata": {},
   "outputs": [],
   "source": [
    "from datetime import datetime\n",
    "\n",
    "date_today = datetime.today().strftime('%Y-%m-%d')\n",
    "year = date_today[0:4]\n",
    "month = date_today[5:7]\n",
    "day = date_today[8:10]"
   ]
  },
  {
   "cell_type": "code",
   "execution_count": null,
   "id": "9184e944",
   "metadata": {},
   "outputs": [],
   "source": [
    "import sagemaker\n",
    "from sagemaker import get_execution_role, image_uris\n",
    "\n",
    "role = get_execution_role()"
   ]
  },
  {
   "cell_type": "code",
   "execution_count": null,
   "id": "1bd9075e",
   "metadata": {},
   "outputs": [],
   "source": [
    "sess = sagemaker.Session()\n",
    "\n",
    "training_image = image_uris.retrieve(\n",
    "    region = sess.boto_region_name, \n",
    "    framework = \"object-detection\", \n",
    "    version = \"1\"\n",
    ")\n",
    "\n",
    "print(training_image)"
   ]
  },
  {
   "cell_type": "code",
   "execution_count": null,
   "id": "a66b145f",
   "metadata": {},
   "outputs": [],
   "source": [
    "model = sagemaker.model.Model(\n",
    "    image_uri = training_image,\n",
    "    model_data = '',  # copy S3 URI .....model.taz.gz\n",
    "    role = role\n",
    ")"
   ]
  },
  {
   "cell_type": "code",
   "execution_count": null,
   "id": "d9ab24c2",
   "metadata": {},
   "outputs": [],
   "source": [
    "transformer = model.transformer(\n",
    "    instance_count = 1,\n",
    "    output_path = f'',  # S3 --> create a bucket. eg name = plastic-detection-batch-transform-2023\n",
    "                        # then at S3, create a folder: batch-output --> copy S3 URI\n",
    "    instance_type = 'ml.m4.xlarge'\n",
    ")"
   ]
  },
  {
   "cell_type": "code",
   "execution_count": null,
   "id": "b20ccdc4",
   "metadata": {},
   "outputs": [],
   "source": [
    "sample_data_bucket = 'plastic-detection-batch-transform-2023'  # name of the above bucket\n",
    "input_file_path = f'images/{year}/{month}/{day}'  # create a bew folder in this bucket: images"
   ]
  },
  {
   "cell_type": "code",
   "execution_count": null,
   "id": "12c8491c",
   "metadata": {},
   "outputs": [],
   "source": [
    "### Note: need to upload some images to the input file path on S3\n",
    "### Just manual 2023 --> 09 --> 03\n",
    "### then run transformer below"
   ]
  },
  {
   "cell_type": "code",
   "execution_count": null,
   "id": "1ba15260",
   "metadata": {},
   "outputs": [],
   "source": [
    "transformer.transform(\n",
    "    f\"s3://{sample_data_bucket}/{input_file_path}\", # <-- the input images\n",
    "    content_type = \"image/jpeg\"\n",
    ")"
   ]
  },
  {
   "cell_type": "code",
   "execution_count": null,
   "id": "26b6709b",
   "metadata": {},
   "outputs": [],
   "source": [
    "print(transformer.output_path)"
   ]
  },
  {
   "cell_type": "markdown",
   "id": "2fe3350c",
   "metadata": {},
   "source": [
    "### Loop over output files"
   ]
  },
  {
   "cell_type": "code",
   "execution_count": 4,
   "id": "73358860",
   "metadata": {},
   "outputs": [
    {
     "name": "stdout",
     "output_type": "stream",
     "text": [
      "2023-09-01\n"
     ]
    }
   ],
   "source": [
    "from datetime import datetime\n",
    "\n",
    "date_today = datetime.today().strftime('%Y-%m-%d')\n",
    "\n",
    "year = date_today[0:4]\n",
    "month = date_today[5:7]\n",
    "day = date_today[8:10]\n",
    "\n",
    "print(date_today)"
   ]
  },
  {
   "cell_type": "code",
   "execution_count": null,
   "id": "0639ea2d",
   "metadata": {},
   "outputs": [],
   "source": [
    "s3 = boto3.resource('s3')\n",
    "\n",
    "my_bucket = s3.Bucket('plastic-detection-batch-transform-2023')\n",
    "\n",
    "files = []\n",
    "for object_summary in my_bucket.objects.filter(Prefix = f'batch-output/{year}/{month}/{day}'):\n",
    "    out_file = object_summary.key[24:] # see doc summary for understanding\n",
    "    files.append(out_file)"
   ]
  },
  {
   "cell_type": "markdown",
   "id": "22f528d6",
   "metadata": {},
   "source": [
    "### Visualize batch transformation results"
   ]
  },
  {
   "cell_type": "code",
   "execution_count": null,
   "id": "384af8da",
   "metadata": {},
   "outputs": [],
   "source": [
    "!mkdir -p Batch_test_images"
   ]
  },
  {
   "cell_type": "code",
   "execution_count": null,
   "id": "99da429c",
   "metadata": {},
   "outputs": [],
   "source": [
    "import json\n",
    "import random\n",
    "import matplotlib.pyplot as plt\n",
    "import matplotlib.image as mpimg\n",
    "from sagemaker.s3 import S3Downloader\n",
    "\n",
    "\n",
    "num_detections = []\n",
    "\n",
    "thresh = 0.3\n",
    "\n",
    "for i in files:\n",
    "    file_key = f'/{year}/{month}/{day}/{i}'\n",
    "    file_name_in_sagemaker = f'Batch_test_images/{i[:-4]}'\n",
    "    output = S3Downloader.read_file(file_key)\n",
    "    detections = json.loads(output)\n",
    "    detection_results = detections['prediction']\n",
    "    img = mpimg.imread(file_name_in_sagemaker)\n",
    "    plt.imshow(img)\n",
    "    width = img.shape[1]\n",
    "    height = img.shape[0]\n",
    "    colors = dict()\n",
    "    num_detections = 0\n",
    "    for det in detection_results:\n",
    "        (klass,score, x0,y0,x1,y1) = det #0\n",
    "        if score < thresh:\n",
    "            continue\n",
    "        num_detections +=1\n",
    "        cls_id = int(klass)#1\n",
    "        if cls_id not in colors:\n",
    "            colors[cls_id] = (random.random(),random.random(),random.random()) #(0.1,0.5,0.4)\n",
    "        xmin = int(x0*width)\n",
    "        ymin = int(y0*height)\n",
    "        xmax = int(x1*width)\n",
    "        ymax = int(y1*height) \n",
    "        width = xmax-xmin\n",
    "        height = ymax-ymin\n",
    "        \n",
    "        rect = plt.Rectangle(\n",
    "            (xmin,ymin),\n",
    "            width,#width\n",
    "            height, #height\n",
    "            fill = False,\n",
    "            edgecolor = colors[cls_id],\n",
    "            linewidth = 3.5\n",
    "        )\n",
    "        plt.gca().add_patch(rect)\n",
    "        plt.gca().text(\n",
    "        xmin,\n",
    "        ymin-2,\n",
    "        \"{:.3f}\".format(score),\n",
    "        bbox = dict(facecolor = colors[cls_id], alpha = 0.5),\n",
    "        fontsize = 12,\n",
    "        color = \"white\"\n",
    "        )\n",
    "    print(\"Number of detections\" + str(num_detections))\n",
    "    plt.show()"
   ]
  }
 ],
 "metadata": {
  "kernelspec": {
   "display_name": "Python 3 (ipykernel)",
   "language": "python",
   "name": "python3"
  },
  "language_info": {
   "codemirror_mode": {
    "name": "ipython",
    "version": 3
   },
   "file_extension": ".py",
   "mimetype": "text/x-python",
   "name": "python",
   "nbconvert_exporter": "python",
   "pygments_lexer": "ipython3",
   "version": "3.10.9"
  }
 },
 "nbformat": 4,
 "nbformat_minor": 5
}
