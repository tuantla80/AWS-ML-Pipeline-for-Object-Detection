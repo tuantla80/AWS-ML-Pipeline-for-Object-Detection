{
 "cells": [
  {
   "cell_type": "markdown",
   "id": "e610bdc8",
   "metadata": {},
   "source": [
    "### Deploying model in a notebook"
   ]
  },
  {
   "cell_type": "code",
   "execution_count": null,
   "id": "09b55f95",
   "metadata": {},
   "outputs": [],
   "source": [
    "import sagemaker\n",
    "from sagemaker import get_execution_role\n",
    "\n",
    "role = get_execution_role() # need role to deploy an endpoint"
   ]
  },
  {
   "cell_type": "code",
   "execution_count": null,
   "id": "b79b3816",
   "metadata": {},
   "outputs": [],
   "source": [
    "sess = sagemaker.Session() # to interact with other AWS services\n",
    "from sagemaker import image_uris\n",
    "\n",
    "training_image = image_uris.retrieve(\n",
    "    region = sess.boto_region_name, \n",
    "    framework = \"object-detection\", \n",
    "    version = \"1\" #  '1' is the latest\n",
    ")\n",
    "print(training_image) # it is a docker container"
   ]
  },
  {
   "cell_type": "code",
   "execution_count": null,
   "id": "6b709182",
   "metadata": {},
   "outputs": [],
   "source": [
    "model = sagemaker.model.Model(\n",
    "    image_uri = training_image,\n",
    "    model_data = '',    # copy S3 URI .....model.taz.gz\n",
    "    role = role    \n",
    ")"
   ]
  },
  {
   "cell_type": "code",
   "execution_count": null,
   "id": "99df8754",
   "metadata": {},
   "outputs": [],
   "source": [
    "endpoint_name = 'Plastic-dection-endpoint-001'\n",
    "\n",
    "deployment = model.deploy(\n",
    "    initial_instance_count = 1,  # the more instances, the faster and more expensive\n",
    "    instance_type = \"ml.m4.xlarge\", # Don't need GPU\n",
    "    endpoint_name = endpoint_name\n",
    ")"
   ]
  },
  {
   "cell_type": "markdown",
   "id": "00d51b03",
   "metadata": {},
   "source": [
    "### Visualize detections"
   ]
  },
  {
   "cell_type": "code",
   "execution_count": null,
   "id": "82f38f7a",
   "metadata": {},
   "outputs": [],
   "source": [
    "import json \n",
    "import boto3\n",
    "runtime = boto3.client(service_name = \"runtime.sagemaker\")"
   ]
  },
  {
   "cell_type": "code",
   "execution_count": null,
   "id": "1feefec2",
   "metadata": {},
   "outputs": [],
   "source": [
    "import random\n",
    "import matplotlib.pyplot as plt\n",
    "import matplotlib.image as mpimg #pyplot\n",
    "\n",
    "\n",
    "def visualize_detection(img_file_path,   # we want to get inference from\n",
    "                        detections, # detections geting from model with the input img_file\n",
    "                        thresh = 0.3\n",
    "                       ):\n",
    "    img = mpimg.imread(img_file_path)\n",
    "    plt.imshow(img)\n",
    "    height, width = img.shape    \n",
    "    colors = dict()\n",
    "    num_detections = 0\n",
    "    \n",
    "    for detection in detections:\n",
    "        (klass, score, x0, y0, x1, y1) = detection # in LST file we set Plastic bag class is 0\n",
    "                                                   # so if find a plastic bag the class is 0\n",
    "        if score < thresh:\n",
    "            continue\n",
    "            \n",
    "        num_detections += 1\n",
    "        \n",
    "        # Make color for each class\n",
    "        cls_id = int(klass)\n",
    "        if cls_id not in colors:\n",
    "            colors[cls_id] = (random.random(),random.random(),random.random()) #(0.1,0.5,0.4)\n",
    "            \n",
    "        xmin = int(x0*width)\n",
    "        ymin = int(y0*height)\n",
    "        xmax = int(x1*width)\n",
    "        ymax = int(y1*height)         \n",
    "        \n",
    "        rect = plt.Rectangle(\n",
    "            (xmin, ymin),\n",
    "            xmax - xmin, # width\n",
    "            ymax - ymin, # height\n",
    "            fill = False,\n",
    "            edgecolor = colors[cls_id],\n",
    "            linewidth = 3.5\n",
    "        )\n",
    "        \n",
    "        plt.gca().add_patch(rect)\n",
    "        plt.gca().text(\n",
    "            xmin,      # show text from (xmin, ymin-2) position\n",
    "            ymin - 2,  \n",
    "            \"{:.3f}\".format(score),\n",
    "            bbox = dict(facecolor = colors[cls_id], alpha = 0.5),\n",
    "            fontsize = 12,\n",
    "            color = \"white\"\n",
    "        )\n",
    "    print(\"Number of detections\" + str(num_detections))\n",
    "    plt.show()"
   ]
  },
  {
   "cell_type": "code",
   "execution_count": null,
   "id": "f8827b46",
   "metadata": {},
   "outputs": [],
   "source": [
    "def show_plastic_prediction(img_file_path, \n",
    "                            endpoint_name, \n",
    "                            thresh = 0.3):\n",
    "    byte_array = \"\" # To send an image to an endpoint to ask for a inference\n",
    "                    # but need a specific type of structure\n",
    "    with open(img_file_path, \"rb\" ) as image:\n",
    "        f = image.read()\n",
    "        byte_array = bytearray(f)\n",
    "        \n",
    "    endpoint_response = runtime.invoke_endpoint(\n",
    "        EndpointName = endpoint_name, \n",
    "        ContentType = \"image/jpeg\", \n",
    "        Body = byte_array)\n",
    "    \n",
    "    results = endpoint_response[\"Body\"].read()\n",
    "    detections = json.loads(results)    \n",
    "    \n",
    "    visualize_detection(img_file_path=img_file_path, \n",
    "                        detections=detections['prediction'], \n",
    "                        thresh=thresh)\n",
    "    "
   ]
  },
  {
   "cell_type": "markdown",
   "id": "73b0d566",
   "metadata": {},
   "source": [
    "## Test endpoint with images from validation dataset"
   ]
  },
  {
   "cell_type": "code",
   "execution_count": null,
   "id": "2bbf22bf",
   "metadata": {},
   "outputs": [],
   "source": [
    "show_plastic_prediction(\n",
    "    img_file_path = 'copy_path_of_validation_imd'\n",
    "    endpoint_name, \n",
    "    thresh = 0.3)"
   ]
  },
  {
   "cell_type": "markdown",
   "id": "36241da5",
   "metadata": {},
   "source": [
    "## Test endpoint with images from internet"
   ]
  },
  {
   "cell_type": "code",
   "execution_count": null,
   "id": "964cac8f",
   "metadata": {},
   "outputs": [],
   "source": [
    "# Free platic bag photo\n",
    "# Upload image files to sagemaker (create a \"InternetImages\" folder inside root)\n",
    "\n",
    "show_plastic_prediction('InternetImages/pexels-timur-weber-9533031.jpg', \n",
    "                        endpoint_name)"
   ]
  }
 ],
 "metadata": {
  "kernelspec": {
   "display_name": "Python 3 (ipykernel)",
   "language": "python",
   "name": "python3"
  },
  "language_info": {
   "codemirror_mode": {
    "name": "ipython",
    "version": 3
   },
   "file_extension": ".py",
   "mimetype": "text/x-python",
   "name": "python",
   "nbconvert_exporter": "python",
   "pygments_lexer": "ipython3",
   "version": "3.10.9"
  }
 },
 "nbformat": 4,
 "nbformat_minor": 5
}
